{
  "nbformat": 4,
  "nbformat_minor": 0,
  "metadata": {
    "colab": {
      "provenance": [],
      "authorship_tag": "ABX9TyP1d8UcsQlD8aVLkCx3QkK7",
      "include_colab_link": true
    },
    "kernelspec": {
      "name": "python3",
      "display_name": "Python 3"
    },
    "language_info": {
      "name": "python"
    }
  },
  "cells": [
    {
      "cell_type": "markdown",
      "metadata": {
        "id": "view-in-github",
        "colab_type": "text"
      },
      "source": [
        "<a href=\"https://colab.research.google.com/github/kermi1311/service-learning-/blob/main/transferceretificate.ipynb\" target=\"_parent\"><img src=\"https://colab.research.google.com/assets/colab-badge.svg\" alt=\"Open In Colab\"/></a>"
      ]
    },
    {
      "cell_type": "code",
      "source": [
        "pip install fpdf\n"
      ],
      "metadata": {
        "colab": {
          "base_uri": "https://localhost:8080/"
        },
        "id": "VElikDIVAmPk",
        "outputId": "c3059fbe-aa68-4cc6-fbbc-6393e17a51f5"
      },
      "execution_count": null,
      "outputs": [
        {
          "output_type": "stream",
          "name": "stdout",
          "text": [
            "Collecting fpdf\n",
            "  Downloading fpdf-1.7.2.tar.gz (39 kB)\n",
            "  Preparing metadata (setup.py) ... \u001b[?25l\u001b[?25hdone\n",
            "Building wheels for collected packages: fpdf\n",
            "  Building wheel for fpdf (setup.py) ... \u001b[?25l\u001b[?25hdone\n",
            "  Created wheel for fpdf: filename=fpdf-1.7.2-py2.py3-none-any.whl size=40704 sha256=5b6b0a4ed1d403c331e9045cdc78c72bd0efee67a3702e5ae8cb5304247aede3\n",
            "  Stored in directory: /root/.cache/pip/wheels/f9/95/ba/f418094659025eb9611f17cbcaf2334236bf39a0c3453ea455\n",
            "Successfully built fpdf\n",
            "Installing collected packages: fpdf\n",
            "Successfully installed fpdf-1.7.2\n"
          ]
        }
      ]
    },
    {
      "cell_type": "code",
      "source": [
        "from fpdf import FPDF\n",
        "\n",
        "# Function to input data from the user with optional default value\n",
        "def input_data(field_name, default_value=None):\n",
        "    user_input = input(f\"Enter {field_name}{' (default: ' + default_value + ')' if default_value else ''}: \")\n",
        "    return user_input if user_input.strip() != '' else default_value\n",
        "\n",
        "# Create instance of FPDF class\n",
        "pdf = FPDF()\n",
        "\n",
        "# Add a page\n",
        "pdf.add_page()\n",
        "\n",
        "# Set background color for the entire page\n",
        "pdf.set_fill_color(224, 235, 255)  # A light blue color\n",
        "pdf.rect(0, 0, 210, 297, 'F')  # Fill the entire page\n",
        "\n",
        "# Set font for the title to bold\n",
        "pdf.set_font(\"Arial\", 'B', 16)\n",
        "\n",
        "# Title and school details in bold with no borders and no background color\n",
        "pdf.multi_cell(0, 10, \"Vidhya Vikas Mandir Andgaon\\nTA:Mulshi,District:Pune\\nSchool Recognition No. : 5/48/(OH) Pune dt. 29.9.1961\\nS.S.C. BOARD NO. 11.10.005\\n\\nSchool Leaving Certificate\\n\", align='C', border=0)\n",
        "\n",
        "# Prompt user for input and fill in the details\n",
        "fields = {\n",
        "    \"Sr no\": None,\n",
        "    \"General reg no\": None,\n",
        "    \"Medium\": \"Marathi\",\n",
        "    \"School no\": None,\n",
        "    \"Board\": \"SSC Pune\",\n",
        "    \"Student id\": None,\n",
        "    \"Aadhar card no\": None,\n",
        "    \"Students Full Name\": None,\n",
        "    \"Surname\": None,\n",
        "    \"Nationality\": None,\n",
        "    \"Mother tongue\": None,\n",
        "    \"Religion\": None,\n",
        "    \"Sub caste\": None,\n",
        "    \"Place of Birth\": None,\n",
        "    \"Date of admission\": None,\n",
        "    \"Date of Leaving\": None\n",
        "}\n",
        "\n",
        "pdf_name = None  # Initialize a variable to hold the PDF name\n",
        "\n",
        "for key in fields:\n",
        "    # For medium and board, we use default values if not provided by the user\n",
        "    if key in [\"Medium\", \"Board\"]:\n",
        "        fields[key] = input_data(key, fields[key])\n",
        "    else:\n",
        "        fields[key] = input_data(key)\n",
        "    if key == \"Students Full Name\" and fields[key]:\n",
        "        pdf_name = f\"{fields[key].replace(' ', '_')}_LC.pdf\"  # Create a filename based on the full name\n",
        "\n",
        "if not pdf_name:  # If the name was not entered, use a default filename\n",
        "    pdf_name = \"Unnamed_LC.pdf\"\n",
        "\n",
        "# Set font to bold for the field names\n",
        "pdf.set_font(\"Arial\", 'B', 12)\n",
        "\n",
        "# Insert field names and data into PDF with borders\n",
        "for key, value in fields.items():\n",
        "    # Write field name in bold with border\n",
        "    field_name = f\"{key}: \"\n",
        "    pdf.cell(pdf.get_string_width(field_name), 10, field_name, ln=0, border=1)\n",
        "    # Change font to underline for user input\n",
        "    pdf.set_font(\"Arial\", 'U', 12)\n",
        "    pdf.cell(0, 10, f\"{value}\", ln=1, border=1)\n",
        "    # Revert font to bold for next field name\n",
        "    pdf.set_font(\"Arial\", 'B', 12)\n",
        "\n",
        "# Disclaimer, in bold and not underlined, with border\n",
        "pdf.cell(0, 10, \"No changes can be made once submitted\", ln=True, align='C', border=1)\n",
        "\n",
        "# Save the PDF to a file\n",
        "pdf.output(pdf_name)\n",
        "\n",
        "print(f\"Transfer certificate generated successfully and saved as {pdf_name}\")\n"
      ],
      "metadata": {
        "colab": {
          "base_uri": "https://localhost:8080/"
        },
        "id": "nblx3eb8DxxI",
        "outputId": "ca0e6724-e23c-49b3-812f-c4709afa9e5d"
      },
      "execution_count": 11,
      "outputs": [
        {
          "output_type": "stream",
          "name": "stdout",
          "text": [
            "Enter Sr no: 12\n",
            "Enter General reg no: 34\n",
            "Enter Medium (default: Marathi): marathi\n",
            "Enter School no: huii\n",
            "Enter Board (default: SSC Pune): ssc\n",
            "Enter Student id: 67\n",
            "Enter Aadhar card no: 156274892\n",
            "Enter Students Full Name: kermi kotecha\n",
            "Enter Surname: kotecha\n",
            "Enter Nationality: indian\n",
            "Enter Mother tongue: guj\n",
            "Enter Religion: hindu\n",
            "Enter Sub caste: hindu\n",
            "Enter Place of Birth: rajkot\n",
            "Enter Date of admission: 2-4-5-\n",
            "Enter Date of Leaving: 73829-\n",
            "Transfer certificate generated successfully and saved as kermi_kotecha_LC.pdf\n"
          ]
        }
      ]
    },
    {
      "cell_type": "code",
      "source": [],
      "metadata": {
        "id": "Dc45-anaGbvM"
      },
      "execution_count": null,
      "outputs": []
    }
  ]
}